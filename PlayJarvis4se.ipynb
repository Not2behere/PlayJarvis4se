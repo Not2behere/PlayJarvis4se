{
 "cells": [
  {
   "cell_type": "markdown",
   "id": "f8b70d61-39d5-49b7-aaa8-5528a02409df",
   "metadata": {},
   "source": [
    "# Step - 1 Load iPython Extension"
   ]
  },
  {
   "cell_type": "code",
   "execution_count": null,
   "id": "f0238873-19e1-4c77-950b-794025833119",
   "metadata": {},
   "outputs": [],
   "source": [
    "%load_ext jarvis"
   ]
  },
  {
   "cell_type": "markdown",
   "id": "70c294aa",
   "metadata": {},
   "source": [
    "# Step - 2 Retrieve packages version"
   ]
  },
  {
   "cell_type": "code",
   "execution_count": null,
   "id": "b6cc17c2",
   "metadata": {
    "scrolled": true
   },
   "outputs": [],
   "source": [
    "%retrieve_pkg_version"
   ]
  },
  {
   "cell_type": "markdown",
   "id": "911177e4",
   "metadata": {},
   "source": [
    "# Step - 3 Start interacting with JARVIS now"
   ]
  },
  {
   "cell_type": "code",
   "execution_count": null,
   "id": "c360560b",
   "metadata": {},
   "outputs": [],
   "source": []
  }
 ],
 "metadata": {
  "kernelspec": {
   "display_name": "Python 3 (ipykernel)",
   "language": "python",
   "name": "python3"
  },
  "language_info": {
   "codemirror_mode": {
    "name": "ipython",
    "version": 3
   },
   "file_extension": ".py",
   "mimetype": "text/x-python",
   "name": "python",
   "nbconvert_exporter": "python",
   "pygments_lexer": "ipython3",
   "version": "3.9.6"
  }
 },
 "nbformat": 4,
 "nbformat_minor": 5
}
